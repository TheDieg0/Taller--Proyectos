{
  "nbformat": 4,
  "nbformat_minor": 0,
  "metadata": {
    "colab": {
      "name": "AGRUPACIÓN DBSCAN.ipynb",
      "provenance": []
    },
    "kernelspec": {
      "name": "python3",
      "display_name": "Python 3"
    },
    "language_info": {
      "name": "python"
    }
  },
  "cells": [
    {
      "cell_type": "code",
      "metadata": {
        "id": "3Sm-WkKaLf6S"
      },
      "source": [
        "pip install psycopg2"
      ],
      "execution_count": null,
      "outputs": []
    },
    {
      "cell_type": "code",
      "metadata": {
        "id": "GTjrOERCLRvc"
      },
      "source": [
        "import json\n",
        "import numpy as np\n",
        "import matplotlib.pyplot as plt\n",
        "import psycopg2\n",
        "import pandas as pd\n",
        "from sklearn import preprocessing\n",
        "from sklearn.cluster import DBSCAN\n",
        "from matplotlib import pyplot as plt\n",
        "from sklearn.neighbors import NearestNeighbors"
      ],
      "execution_count": null,
      "outputs": []
    },
    {
      "cell_type": "code",
      "metadata": {
        "id": "mnWm_zhZLrrj"
      },
      "source": [
        "conn= psycopg2.connect(database=\"delati\", user=\"modulo4\", password=\"modulo4\", host=\"128.199.1.222\", port=\"5432\")\n",
        "cursor=conn.cursor()\n",
        "sql=\"select distinct o.htitulo_cat, o.htitulo from webscraping w inner join oferta o on (w.id_webscraping=o.id_webscraping) where o.id_estado is null order by 1,2 limit 500;\"\n"
      ],
      "execution_count": null,
      "outputs": []
    },
    {
      "cell_type": "code",
      "metadata": {
        "id": "N033wj3YLuKz"
      },
      "source": [
        "def load_data():\n",
        "    cursor.execute(sql)\n",
        "    result=cursor.fetchall()\n",
        "    return result"
      ],
      "execution_count": null,
      "outputs": []
    },
    {
      "cell_type": "code",
      "metadata": {
        "id": "Ze1KHUP0Lvz9"
      },
      "source": [
        "def init():\n",
        "    data = load_data()\n",
        "    json_result = json.dumps(data)\n",
        "    return json_result"
      ],
      "execution_count": null,
      "outputs": []
    },
    {
      "cell_type": "code",
      "metadata": {
        "colab": {
          "base_uri": "https://localhost:8080/"
        },
        "id": "JM9bALTSLxHz",
        "outputId": "61939d7d-2b92-4d61-b205-9c12aaa0c399"
      },
      "source": [
        "data1 = load_data()\n",
        "#print(data1)\n",
        "df = pd.read_sql(sql, con = conn)\n",
        "print(df)\n",
        "df.shape\n",
        "#DBSCAN_data_scaler = StandardScaler().fit(data)\n",
        "#data = DBSCAN_data_scaler.transform(data)\n",
        "\n",
        "dups = df.groupby(['htitulo_cat']).count()\n",
        "print(dups)\n",
        "dups.shape"
      ],
      "execution_count": null,
      "outputs": [
        {
          "output_type": "stream",
          "text": [
            "               htitulo_cat                   htitulo\n",
            "0                ARCHITECT        ARQUITECTO ANDROID\n",
            "1                ARCHITECT        ARQUITECTO BACKEND\n",
            "2                ARCHITECT    ARQUITECTO DE SOFTWARE\n",
            "3                ARCHITECT           CLOUD ARCHITECT\n",
            "4                ARCHITECT   ENTERPRISE ARCHITECTURE\n",
            "..                     ...                       ...\n",
            "128        SYSTEM ANALYSIS           ESPECIALISTA TI\n",
            "129  TRAINING AND RESEARCH  ANALISTA DE CAPACITACION\n",
            "130  TRAINING AND RESEARCH     COORDINADOR ACADEMICO\n",
            "131  TRAINING AND RESEARCH           RESEARCH EXPERT\n",
            "132  TRAINING AND RESEARCH      SEARCH ENGINE EXPERT\n",
            "\n",
            "[133 rows x 2 columns]\n",
            "                                        htitulo\n",
            "htitulo_cat                                    \n",
            "ARCHITECT                                     6\n",
            "ARTIFICIAL INTELLIGENCE                       1\n",
            "BUSINESS INTELLIGENCE                         2\n",
            "CLOUD COMPUTING                               2\n",
            "COMMUNICATION & NETWORKING                    3\n",
            "COMPUTER SCIENCE, SYSTEMS AND SOFTWARE        4\n",
            "CYBERSECURITY                                 6\n",
            "DATABASE                                     12\n",
            "DEVELOPER                                    53\n",
            "DIGITAL BUSINESS PROCESS                      9\n",
            "INFORMATION AND KNOWLEDGE MANAGEMENT          2\n",
            "IT SERVICES                                   3\n",
            "MANAGER                                      15\n",
            "QUALITY SOFTWARE                              1\n",
            "SERVERS-CONTAINERS-VIRTUALIZATION             2\n",
            "SERVICE DESK                                  4\n",
            "SOFTWARE DESIGN                               1\n",
            "SYSTEM ANALYSIS                               3\n",
            "TRAINING AND RESEARCH                         4\n"
          ],
          "name": "stdout"
        },
        {
          "output_type": "execute_result",
          "data": {
            "text/plain": [
              "(19, 1)"
            ]
          },
          "metadata": {
            "tags": []
          },
          "execution_count": 22
        }
      ]
    },
    {
      "cell_type": "code",
      "metadata": {
        "colab": {
          "base_uri": "https://localhost:8080/"
        },
        "id": "nnEEIv_eL4A0",
        "outputId": "0eb30540-5551-4aaf-92ac-4aa69ed75106"
      },
      "source": [
        "label_encoder = preprocessing.LabelEncoder()\n",
        "transformed_data = df.apply(label_encoder.fit_transform)\n",
        "print(transformed_data)\n",
        "X=transformed_data.iloc[:,[0,1]].values\n",
        "print(X)"
      ],
      "execution_count": null,
      "outputs": [
        {
          "output_type": "stream",
          "text": [
            "     htitulo_cat  htitulo\n",
            "0              0       31\n",
            "1              0       32\n",
            "2              0       33\n",
            "3              0       50\n",
            "4              0       73\n",
            "..           ...      ...\n",
            "128           17       83\n",
            "129           18       10\n",
            "130           18       59\n",
            "131           18      116\n",
            "132           18      121\n",
            "\n",
            "[133 rows x 2 columns]\n",
            "[[  0  31]\n",
            " [  0  32]\n",
            " [  0  33]\n",
            " [  0  50]\n",
            " [  0  73]\n",
            " [  0 103]\n",
            " [  1  80]\n",
            " [  2   4]\n",
            " [  2  74]\n",
            " [  3   7]\n",
            " [  3  53]\n",
            " [  4   2]\n",
            " [  4  25]\n",
            " [  4  82]\n",
            " [  5  58]\n",
            " [  5 109]\n",
            " [  5 124]\n",
            " [  5 128]\n",
            " [  6  13]\n",
            " [  6  16]\n",
            " [  6  26]\n",
            " [  6  34]\n",
            " [  6  75]\n",
            " [  6 122]\n",
            " [  7   1]\n",
            " [  7   3]\n",
            " [  7   5]\n",
            " [  7   9]\n",
            " [  7  45]\n",
            " [  7  51]\n",
            " [  7  60]\n",
            " [  7  62]\n",
            " [  7  63]\n",
            " [  7  65]\n",
            " [  7  66]\n",
            " [  7 127]\n",
            " [  8   0]\n",
            " [  8  20]\n",
            " [  8  21]\n",
            " [  8  22]\n",
            " [  8  23]\n",
            " [  8  29]\n",
            " [  8  30]\n",
            " [  8  35]\n",
            " [  8  36]\n",
            " [  8  37]\n",
            " [  8  38]\n",
            " [  8  39]\n",
            " [  8  40]\n",
            " [  8  41]\n",
            " [  8  42]\n",
            " [  8  44]\n",
            " [  8  46]\n",
            " [  8  47]\n",
            " [  8  48]\n",
            " [  8  49]\n",
            " [  8  52]\n",
            " [  8  54]\n",
            " [  8  56]\n",
            " [  8  64]\n",
            " [  8  67]\n",
            " [  8  69]\n",
            " [  8  72]\n",
            " [  8  85]\n",
            " [  8  86]\n",
            " [  8  87]\n",
            " [  8  88]\n",
            " [  8  89]\n",
            " [  8  90]\n",
            " [  8  94]\n",
            " [  8  95]\n",
            " [  8  96]\n",
            " [  8  97]\n",
            " [  8 102]\n",
            " [  8 104]\n",
            " [  8 105]\n",
            " [  8 106]\n",
            " [  8 107]\n",
            " [  8 108]\n",
            " [  8 112]\n",
            " [  8 113]\n",
            " [  8 115]\n",
            " [  8 117]\n",
            " [  8 118]\n",
            " [  8 120]\n",
            " [  8 126]\n",
            " [  8 130]\n",
            " [  8 131]\n",
            " [  8 132]\n",
            " [  9   6]\n",
            " [  9   8]\n",
            " [  9  12]\n",
            " [  9  17]\n",
            " [  9  76]\n",
            " [  9  77]\n",
            " [  9  78]\n",
            " [  9  81]\n",
            " [  9  84]\n",
            " [ 10  18]\n",
            " [ 10  79]\n",
            " [ 11  11]\n",
            " [ 11  14]\n",
            " [ 11 119]\n",
            " [ 12  43]\n",
            " [ 12  55]\n",
            " [ 12  57]\n",
            " [ 12  68]\n",
            " [ 12  70]\n",
            " [ 12  71]\n",
            " [ 12  91]\n",
            " [ 12  92]\n",
            " [ 12  98]\n",
            " [ 12  99]\n",
            " [ 12 100]\n",
            " [ 12 101]\n",
            " [ 12 110]\n",
            " [ 12 111]\n",
            " [ 12 114]\n",
            " [ 13  24]\n",
            " [ 14  19]\n",
            " [ 14 129]\n",
            " [ 15  27]\n",
            " [ 15  61]\n",
            " [ 15  93]\n",
            " [ 15 125]\n",
            " [ 16 123]\n",
            " [ 17  15]\n",
            " [ 17  28]\n",
            " [ 17  83]\n",
            " [ 18  10]\n",
            " [ 18  59]\n",
            " [ 18 116]\n",
            " [ 18 121]]\n"
          ],
          "name": "stdout"
        }
      ]
    },
    {
      "cell_type": "code",
      "metadata": {
        "colab": {
          "base_uri": "https://localhost:8080/",
          "height": 279
        },
        "id": "gDvC9xheMJ0h",
        "outputId": "8cd1fe3b-c92f-4e64-b342-a15f071386e5"
      },
      "source": [
        "# Usamos vecinos más cercanos para calcular la distancia entre puntos.\n",
        "# calcular distancias \n",
        "neigh=NearestNeighbors(n_neighbors=2)\n",
        "distance=neigh.fit(X)\n",
        "\n",
        "# índices y valores de distancia\n",
        "distances,indices=distance.kneighbors(X)\n",
        "\n",
        "# Ahora ordenando el orden creciente de distancia\n",
        "sorting_distances=np.sort(distances,axis=0)\n",
        "\n",
        "# distancias ordenadas\n",
        "sorted_distances=sorting_distances[:,1]\n",
        "# grafico entre distancia vs épsilon\n",
        "plt.plot(sorted_distances)\n",
        "plt.xlabel('Distancia')\n",
        "plt.ylabel('Epsilon')\n",
        "plt.show()"
      ],
      "execution_count": null,
      "outputs": [
        {
          "output_type": "display_data",
          "data": {
            "image/png": "[encoded data removed]",
            "text/plain": [
              "<Figure size 432x288 with 1 Axes>"
            ]
          },
          "metadata": {
            "tags": [],
            "needs_background": "light"
          }
        }
      ]
    },
    {
      "cell_type": "code",
      "metadata": {
        "colab": {
          "base_uri": "https://localhost:8080/"
        },
        "id": "tkkJtJEaMxM_",
        "outputId": "00912a3b-997e-49dc-886c-2f48806a18c1"
      },
      "source": [
        "# inicializamos DBSCAN\n",
        "clustering_model=DBSCAN(eps=4,min_samples=4)\n",
        "# ajustamos el modelo a transform_data\n",
        "clustering_model.fit(X)\n",
        "print(clustering_model)\n",
        "# prediccion por DBSCAN\n",
        "predicted_labels=clustering_model.labels_\n",
        "print(predicted_labels)"
      ],
      "execution_count": null,
      "outputs": [
        {
          "output_type": "stream",
          "text": [
            "DBSCAN(algorithm='auto', eps=4, leaf_size=30, metric='euclidean',\n",
            "       metric_params=None, min_samples=4, n_jobs=None, p=None)\n",
            "[-1 -1 -1 -1 -1 -1 -1  0 -1 -1 -1  0  0 -1  2  5  1  1  0  0  0  2  3  1\n",
            "  0  0  0  0  2  2  4  4  4  4  4  1  0  0  0  0  0  0 -1  2  2  2  2  2\n",
            "  2  2  2  2  2  2  2  2  2  2  2  4  4  4  3  3  3  3  3  3  3  3  3  3\n",
            "  3  5  5  5  5  5  5  5  5  5  5  5  5  1  1  1  1  0  0  0  0  3  3  3\n",
            "  3  3  0  3  0  0  5 -1 -1 -1 -1 -1 -1 -1 -1  6  6  6  6 -1 -1 -1 -1 -1\n",
            " -1 -1 -1 -1 -1 -1 -1 -1 -1 -1 -1 -1 -1]\n"
          ],
          "name": "stdout"
        }
      ]
    },
    {
      "cell_type": "code",
      "metadata": {
        "colab": {
          "base_uri": "https://localhost:8080/",
          "height": 312
        },
        "id": "4-pw3P_YM8xo",
        "outputId": "e31dda72-f7f0-42f0-f2ae-13ca72242af0"
      },
      "source": [
        "# visualzing clusters\n",
        "plt.scatter(X[:,0], X[:,1],c=predicted_labels, cmap='Paired')\n",
        "plt.xlabel('Categoria')\n",
        "plt.ylabel('Datos')\n",
        "plt.title(\"DBSCAN\")"
      ],
      "execution_count": null,
      "outputs": [
        {
          "output_type": "execute_result",
          "data": {
            "text/plain": [
              "Text(0.5, 1.0, 'DBSCAN')"
            ]
          },
          "metadata": {
            "tags": []
          },
          "execution_count": 48
        },
        {
          "output_type": "display_data",
          "data": {
            "image/png": "[encoded data removed]",
            "text/plain": [
              "<Figure size 432x288 with 1 Axes>"
            ]
          },
          "metadata": {
            "tags": [],
            "needs_background": "light"
          }
        }
      ]
    }
  ]
}